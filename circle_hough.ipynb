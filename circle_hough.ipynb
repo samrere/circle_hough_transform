{
 "cells": [
  {
   "cell_type": "code",
   "execution_count": 1,
   "metadata": {},
   "outputs": [],
   "source": [
    "from skimage import io\n",
    "from skimage.color import rgb2gray\n",
    "from skimage.draw import circle_perimeter\n",
    "from skimage.draw import disk\n",
    "from skimage.filters import gaussian\n",
    "import numpy as np\n",
    "from PIL import Image\n",
    "from MyCannyEdgeDetector_hough import *"
   ]
  },
  {
   "cell_type": "code",
   "execution_count": 2,
   "metadata": {},
   "outputs": [],
   "source": [
    "def remove_from_edge(edge,locs,R_max):\n",
    "    '''\n",
    "    remove previously processed edges of smaller circles to speed up the process\n",
    "    '''\n",
    "    H,W=edge.shape\n",
    "    edge=np.pad(edge,pad_width=[[2*R_max,2*R_max],[2*R_max,2*R_max]])\n",
    "    for _,h,w,_ in locs:\n",
    "        rr,cc=disk((h+R_max,w+R_max),R_max)\n",
    "        edge[rr,cc]=False\n",
    "    return edge[2*R_max:2*R_max+H,2*R_max:2*R_max+W]"
   ]
  },
  {
   "cell_type": "code",
   "execution_count": 3,
   "metadata": {},
   "outputs": [],
   "source": [
    "def my_circle_hough_transform(edge,R_min,R_max,margin_degree=30):\n",
    "    R = np.arange(R_min, R_max)\n",
    "    edge_points = np.argwhere(edge)\n",
    "    H,W = edge.shape\n",
    "\n",
    "    acc_array=np.zeros((len(R), H+2*R_max, W+2*R_max))\n",
    "    offset=np.array([R_max, R_max])\n",
    "    margin=np.cos(np.radians(90-margin_degree/2))\n",
    "    for _ in range(acc_array.shape[0]):\n",
    "        r=_+R_min\n",
    "        for p in edge_points:\n",
    "            tangent=np.array([Ix[tuple(p)],Iy[tuple(p)]])# tangent vector of point\n",
    "            mag=gradient_mag[tuple(p)]\n",
    "            p=p+offset\n",
    "            rr, cc =circle_perimeter(p[0],p[1],r)\n",
    "            circle=np.c_[rr,cc]\n",
    "            orthogonal=((circle-p)*tangent).sum(axis=1)/mag/r\n",
    "            indices=abs(orthogonal)<margin\n",
    "            rr=rr[indices]\n",
    "            cc=cc[indices]\n",
    "            acc_array[_,rr,cc]+=1/r\n",
    "        print('radius =',r,'processed')\n",
    "    \n",
    "    # normalize to between 0 and 255\n",
    "    acc_array-=acc_array.min()\n",
    "    acc_array/=acc_array.max()\n",
    "    acc_array=acc_array*255\n",
    "    return acc_array"
   ]
  },
  {
   "cell_type": "code",
   "execution_count": 4,
   "metadata": {},
   "outputs": [],
   "source": [
    "def non_max_suppression(R_min,R_max,acc_array,thres,kernel_radius):\n",
    "    R = np.arange(R_min, R_max)\n",
    "    hh,ww=acc_array.shape[-2:]\n",
    "    kernel_radius=int(kernel_radius)\n",
    "    acc=acc_array.copy()\n",
    "    acc[acc<thres]=0\n",
    "    acc_backup=acc.copy()\n",
    "    for r,h,w in np.argwhere(acc):\n",
    "        r_low=0\n",
    "        r_high=acc.shape[0]\n",
    "        h_low=max(0,h-kernel_radius)\n",
    "        h_high=min(acc.shape[1],h+kernel_radius)\n",
    "        w_low=max(0,w-kernel_radius)\n",
    "        w_high=min(acc.shape[2],w+kernel_radius)\n",
    "        if acc[r,h,w]!=np.max(acc_backup[r_low:r_high,h_low:h_high,w_low:w_high]):\n",
    "            acc[r,h,w]=0\n",
    "    locs=np.argwhere(acc)\n",
    "    locs[:,0]+=R_min\n",
    "    # filter centers\n",
    "    filtered=[]\n",
    "    mask=np.zeros(acc.shape[-2:],dtype=np.bool)\n",
    "    for r in R:\n",
    "        centers=locs[locs[:,0]==r]\n",
    "        if len(centers)==1:\n",
    "            r,h,w=centers[0]\n",
    "            filtered.append([r,h,w])\n",
    "        elif len(centers)>1:\n",
    "            mask[...]=False\n",
    "            for r,h,w in centers:\n",
    "                h_low=max(0,h-3)\n",
    "                h_high=min(hh,h+4)\n",
    "                w_low=max(0,w-3)\n",
    "                w_high=min(ww,w+4)\n",
    "                if mask[h_low:h_high,w_low:w_high].sum()==0:\n",
    "                    mask[h,w]=True\n",
    "                    filtered.append([r,h,w])\n",
    "    filtered=np.array(filtered)\n",
    "    output=np.c_[filtered,R_max*np.ones(filtered.shape[0],dtype=np.int)]\n",
    "    return output"
   ]
  },
  {
   "cell_type": "markdown",
   "metadata": {},
   "source": [
    "## read image"
   ]
  },
  {
   "cell_type": "code",
   "execution_count": 5,
   "metadata": {},
   "outputs": [],
   "source": [
    "# reduce to half size\n",
    "img = gaussian(rgb2gray(io.imread('images/bearing.jpg')), sigma=0.5)[::2,::2]"
   ]
  },
  {
   "cell_type": "markdown",
   "metadata": {},
   "source": [
    "## find circles r=30~40"
   ]
  },
  {
   "cell_type": "code",
   "execution_count": 6,
   "metadata": {},
   "outputs": [
    {
     "name": "stdout",
     "output_type": "stream",
     "text": [
      "radius = 30 processed\n",
      "radius = 31 processed\n",
      "radius = 32 processed\n",
      "radius = 33 processed\n",
      "radius = 34 processed\n",
      "radius = 35 processed\n",
      "radius = 36 processed\n",
      "radius = 37 processed\n",
      "radius = 38 processed\n",
      "radius = 39 processed\n",
      "CPU times: user 39.6 s, sys: 98.9 ms, total: 39.7 s\n",
      "Wall time: 39.9 s\n"
     ]
    },
    {
     "data": {
      "text/plain": [
       "array([[ 34, 204, 108,  40],\n",
       "       [ 34, 417,  24,  40],\n",
       "       [ 35, 227, 574,  40],\n",
       "       [ 35, 370, 213,  40],\n",
       "       [ 36, 146, 295,  40],\n",
       "       [ 36, 412, 630,  40],\n",
       "       [ 37,  12, 648,  40],\n",
       "       [ 37,  13,  77,  40],\n",
       "       [ 37, 310, 400,  40]])"
      ]
     },
     "execution_count": 6,
     "metadata": {},
     "output_type": "execute_result"
    }
   ],
   "source": [
    "%%time\n",
    "R_min=30\n",
    "R_max=40\n",
    "edge,Ix,Iy,gradient_mag = myCannyEdgeDetector(img, sigma=1, low=0.2, high=0.5)\n",
    "acc_array=my_circle_hough_transform(edge,R_min,R_max)\n",
    "locs3040=non_max_suppression(R_min,R_max,acc_array,thres=75,kernel_radius=2.5*R_max)\n",
    "locs3040"
   ]
  },
  {
   "cell_type": "markdown",
   "metadata": {},
   "source": [
    "## find circles r=40~50"
   ]
  },
  {
   "cell_type": "code",
   "execution_count": 7,
   "metadata": {},
   "outputs": [
    {
     "name": "stdout",
     "output_type": "stream",
     "text": [
      "radius = 40 processed\n",
      "radius = 41 processed\n",
      "radius = 42 processed\n",
      "radius = 43 processed\n",
      "radius = 44 processed\n",
      "radius = 45 processed\n",
      "radius = 46 processed\n",
      "radius = 47 processed\n",
      "radius = 48 processed\n",
      "radius = 49 processed\n",
      "CPU times: user 33.6 s, sys: 80.1 ms, total: 33.7 s\n",
      "Wall time: 33.7 s\n"
     ]
    },
    {
     "data": {
      "text/plain": [
       "array([[ 44,  24, 658,  50],\n",
       "       [ 44, 422, 640,  50],\n",
       "       [ 45, 214, 119,  50],\n",
       "       [ 45, 237, 583,  50],\n",
       "       [ 46, 156, 305,  50],\n",
       "       [ 46, 379, 222,  50],\n",
       "       [ 49,  77, 479,  50],\n",
       "       [ 49, 322, 406,  50],\n",
       "       [ 49, 507, 469,  50]])"
      ]
     },
     "execution_count": 7,
     "metadata": {},
     "output_type": "execute_result"
    }
   ],
   "source": [
    "%%time\n",
    "R_min=40\n",
    "R_max=50\n",
    "edge,Ix,Iy,gradient_mag = myCannyEdgeDetector(img, sigma=1.5, low=0.2, high=0.5)\n",
    "edge=remove_from_edge(edge,locs=locs3040,R_max=40)\n",
    "acc_array=my_circle_hough_transform(edge,R_min,R_max)\n",
    "locs4050=non_max_suppression(R_min,R_max,acc_array,thres=60,kernel_radius=2*R_max)\n",
    "locs4050"
   ]
  },
  {
   "cell_type": "markdown",
   "metadata": {},
   "source": [
    "## find spheres r=10~20"
   ]
  },
  {
   "cell_type": "code",
   "execution_count": 8,
   "metadata": {},
   "outputs": [
    {
     "name": "stdout",
     "output_type": "stream",
     "text": [
      "radius = 10 processed\n",
      "radius = 11 processed\n",
      "radius = 12 processed\n",
      "radius = 13 processed\n",
      "radius = 14 processed\n",
      "radius = 15 processed\n",
      "radius = 16 processed\n",
      "radius = 17 processed\n",
      "radius = 18 processed\n",
      "radius = 19 processed\n",
      "CPU times: user 23.8 s, sys: 120 ms, total: 23.9 s\n",
      "Wall time: 23.8 s\n"
     ]
    },
    {
     "data": {
      "text/plain": [
       "array([[ 10,  40, 107,  20],\n",
       "       [ 10,  63,  52,  20],\n",
       "       [ 10,  65, 507,  20],\n",
       "       [ 10, 105, 475,  20],\n",
       "       [ 10, 148, 561,  20],\n",
       "       [ 10, 191, 286,  20],\n",
       "       [ 10, 201,  24,  20],\n",
       "       [ 10, 203, 150,  20],\n",
       "       [ 10, 205, 488,  20],\n",
       "       [ 10, 237, 488,  20],\n",
       "       [ 10, 244, 115,  20],\n",
       "       [ 10, 255, 509,  20],\n",
       "       [ 10, 267, 437,  20],\n",
       "       [ 10, 323, 435,  20],\n",
       "       [ 10, 342, 571,  20],\n",
       "       [ 10, 371, 131,  20],\n",
       "       [ 10, 440, 567,  20],\n",
       "       [ 10, 450, 377,  20],\n",
       "       [ 10, 453, 626,  20],\n",
       "       [ 10, 481, 284,  20],\n",
       "       [ 11, 105, 419,  20],\n",
       "       [ 11, 119, 207,  20],\n",
       "       [ 11, 124,  93,  20],\n",
       "       [ 11, 160, 329,  20],\n",
       "       [ 11, 171, 227,  20],\n",
       "       [ 11, 231, 395,  20],\n",
       "       [ 11, 237, 607,  20],\n",
       "       [ 11, 286, 309,  20],\n",
       "       [ 11, 288, 178,  20],\n",
       "       [ 11, 300, 232,  20],\n",
       "       [ 11, 312, 312,  20],\n",
       "       [ 11, 331, 618,  20],\n",
       "       [ 11, 347, 337,  20],\n",
       "       [ 11, 351, 256,  20],\n",
       "       [ 11, 427, 474,  20],\n",
       "       [ 11, 433,  57,  20],\n",
       "       [ 12,  31, 570,  20],\n",
       "       [ 12, 237, 347,  20],\n",
       "       [ 12, 278, 554,  20],\n",
       "       [ 12, 473, 498,  20],\n",
       "       [ 13,  61, 614,  20],\n",
       "       [ 13,  71, 295,  20],\n",
       "       [ 13, 109, 333,  20],\n",
       "       [ 13, 255,  77,  20],\n",
       "       [ 14,  58, 386,  20],\n",
       "       [ 14,  78, 242,  20],\n",
       "       [ 14, 145,  46,  20],\n",
       "       [ 14, 153, 140,  20],\n",
       "       [ 14, 341,  29,  20],\n",
       "       [ 14, 381,  62,  20],\n",
       "       [ 14, 403, 230,  20],\n",
       "       [ 14, 413, 175,  20],\n",
       "       [ 14, 474, 224,  20],\n",
       "       [ 15, 163, 514,  20],\n",
       "       [ 15, 186, 603,  20],\n",
       "       [ 15, 319, 135,  20],\n",
       "       [ 15, 362, 395,  20],\n",
       "       [ 15, 395, 545,  20]])"
      ]
     },
     "execution_count": 8,
     "metadata": {},
     "output_type": "execute_result"
    }
   ],
   "source": [
    "%%time\n",
    "R_min=10\n",
    "R_max=20\n",
    "edge,Ix,Iy,gradient_mag = myCannyEdgeDetector(img, sigma=1.5, low=0.1, high=0.5)\n",
    "edge=remove_from_edge(edge,locs=locs3040,R_max=40)\n",
    "edge=remove_from_edge(edge,locs=locs4050,R_max=50)\n",
    "acc_array=my_circle_hough_transform(edge,R_min,R_max)\n",
    "locs1020=non_max_suppression(R_min,R_max,acc_array,thres=110,kernel_radius=1.5*R_max)\n",
    "locs1020"
   ]
  },
  {
   "cell_type": "markdown",
   "metadata": {},
   "source": [
    "## find circles r=50~60"
   ]
  },
  {
   "cell_type": "code",
   "execution_count": 9,
   "metadata": {},
   "outputs": [
    {
     "name": "stdout",
     "output_type": "stream",
     "text": [
      "radius = 50 processed\n",
      "radius = 51 processed\n",
      "radius = 52 processed\n",
      "radius = 53 processed\n",
      "radius = 54 processed\n",
      "radius = 55 processed\n",
      "radius = 56 processed\n",
      "radius = 57 processed\n",
      "radius = 58 processed\n",
      "radius = 59 processed\n",
      "CPU times: user 48.3 s, sys: 99.9 ms, total: 48.4 s\n",
      "Wall time: 48.6 s\n"
     ]
    },
    {
     "data": {
      "text/plain": [
       "array([[ 51,  36,  97,  60],\n",
       "       [ 52, 331, 419,  60],\n",
       "       [ 54,  87, 491,  60],\n",
       "       [ 54, 247, 590,  60],\n",
       "       [ 54, 437,  43,  60],\n",
       "       [ 55, 168, 312,  60],\n",
       "       [ 55, 224, 127,  60],\n",
       "       [ 56, 432, 647,  60],\n",
       "       [ 56, 520, 474,  60],\n",
       "       [ 57, 390, 232,  60]])"
      ]
     },
     "execution_count": 9,
     "metadata": {},
     "output_type": "execute_result"
    }
   ],
   "source": [
    "%%time\n",
    "R_min=50\n",
    "R_max=60\n",
    "edge,Ix,Iy,gradient_mag = myCannyEdgeDetector(img, sigma=1, low=0.1, high=0.5)\n",
    "edge=remove_from_edge(edge,locs=locs3040,R_max=40)\n",
    "edge=remove_from_edge(edge,locs=locs4050,R_max=50)\n",
    "acc_array=my_circle_hough_transform(edge,R_min,R_max)\n",
    "locs5060=non_max_suppression(R_min,R_max,acc_array,thres=80,kernel_radius=2*R_max)\n",
    "locs5060"
   ]
  },
  {
   "cell_type": "markdown",
   "metadata": {},
   "source": [
    "## find circles r=70~85"
   ]
  },
  {
   "cell_type": "code",
   "execution_count": 10,
   "metadata": {},
   "outputs": [
    {
     "name": "stdout",
     "output_type": "stream",
     "text": [
      "radius = 70 processed\n",
      "radius = 71 processed\n",
      "radius = 72 processed\n",
      "radius = 73 processed\n",
      "radius = 74 processed\n",
      "radius = 75 processed\n",
      "radius = 76 processed\n",
      "radius = 77 processed\n",
      "radius = 78 processed\n",
      "radius = 79 processed\n",
      "radius = 80 processed\n",
      "radius = 81 processed\n",
      "radius = 82 processed\n",
      "radius = 83 processed\n",
      "radius = 84 processed\n",
      "CPU times: user 54.3 s, sys: 108 ms, total: 54.4 s\n",
      "Wall time: 54.4 s\n"
     ]
    },
    {
     "data": {
      "text/plain": [
       "array([[ 78, 462, 675,  85],\n",
       "       [ 80, 110, 513,  85],\n",
       "       [ 80, 414, 258,  85],\n",
       "       [ 81, 274, 619,  85],\n",
       "       [ 83,  58, 695,  85],\n",
       "       [ 83, 542, 506,  85],\n",
       "       [ 84, 191, 339,  85],\n",
       "       [ 84, 249, 154,  85],\n",
       "       [ 84, 356, 448,  85],\n",
       "       [ 84, 462,  69,  85]])"
      ]
     },
     "execution_count": 10,
     "metadata": {},
     "output_type": "execute_result"
    }
   ],
   "source": [
    "%%time\n",
    "R_min=70\n",
    "R_max=85\n",
    "edge,Ix,Iy,gradient_mag = myCannyEdgeDetector(img, sigma=1.5, low=0.1, high=0.5)\n",
    "edge=remove_from_edge(edge,locs=locs3040,R_max=40)\n",
    "edge=remove_from_edge(edge,locs=locs4050,R_max=50)\n",
    "edge=remove_from_edge(edge,locs=locs5060,R_max=60)\n",
    "acc_array=my_circle_hough_transform(edge,R_min,R_max)\n",
    "locs7085=non_max_suppression(R_min,R_max,acc_array,thres=80,kernel_radius=1.8*R_max)\n",
    "locs7085"
   ]
  },
  {
   "cell_type": "markdown",
   "metadata": {},
   "source": [
    "## find circles r=90~100"
   ]
  },
  {
   "cell_type": "code",
   "execution_count": 11,
   "metadata": {},
   "outputs": [
    {
     "name": "stdout",
     "output_type": "stream",
     "text": [
      "radius = 90 processed\n",
      "radius = 91 processed\n",
      "radius = 92 processed\n",
      "radius = 93 processed\n",
      "radius = 94 processed\n",
      "radius = 95 processed\n",
      "radius = 96 processed\n",
      "radius = 97 processed\n",
      "radius = 98 processed\n",
      "radius = 99 processed\n",
      "CPU times: user 20.7 s, sys: 76 ms, total: 20.8 s\n",
      "Wall time: 20.8 s\n"
     ]
    },
    {
     "data": {
      "text/plain": [
       "array([[ 91, 206, 353, 100],\n",
       "       [ 92, 127, 528, 100],\n",
       "       [ 92, 472, 690, 100],\n",
       "       [ 92, 477,  87, 100],\n",
       "       [ 93, 264, 171, 100],\n",
       "       [ 93, 289, 632, 100],\n",
       "       [ 94,  73, 138, 100],\n",
       "       [ 94, 558, 519, 100],\n",
       "       [ 94, 613, 331, 100],\n",
       "       [ 95, 371, 459, 100],\n",
       "       [ 95, 429, 273, 100],\n",
       "       [ 97,  68, 713, 100],\n",
       "       [ 97, 232, 817, 100]])"
      ]
     },
     "execution_count": 11,
     "metadata": {},
     "output_type": "execute_result"
    }
   ],
   "source": [
    "%%time\n",
    "R_min=90\n",
    "R_max=100\n",
    "edge,Ix,Iy,gradient_mag = myCannyEdgeDetector(img, sigma=1.5, low=0.1, high=0.5)\n",
    "edge=remove_from_edge(edge,locs=locs3040,R_max=40)\n",
    "edge=remove_from_edge(edge,locs=locs4050,R_max=50)\n",
    "edge=remove_from_edge(edge,locs=locs5060,R_max=60)\n",
    "edge=remove_from_edge(edge,locs=locs7085,R_max=85)\n",
    "acc_array=my_circle_hough_transform(edge,R_min,R_max)\n",
    "locs90100=non_max_suppression(R_min,R_max,acc_array,thres=45,kernel_radius=1.5*R_max)\n",
    "locs90100"
   ]
  },
  {
   "cell_type": "markdown",
   "metadata": {},
   "source": [
    "## postprocess\n",
    "the original image is reduced to half during processing. This step convert found circle parameters back to the original."
   ]
  },
  {
   "cell_type": "code",
   "execution_count": 12,
   "metadata": {},
   "outputs": [
    {
     "name": "stdout",
     "output_type": "stream",
     "text": [
      "total: 109\n"
     ]
    }
   ],
   "source": [
    "locs=np.concatenate((locs1020,locs3040,locs4050,locs5060,locs7085,locs90100),axis=0)\n",
    "locs[:,0]*=2\n",
    "locs[:,1:3]-=locs[:,-1,None]\n",
    "locs[:,1:3]*=2\n",
    "print('total:', len(locs))"
   ]
  },
  {
   "cell_type": "markdown",
   "metadata": {},
   "source": [
    "## plot all"
   ]
  },
  {
   "cell_type": "code",
   "execution_count": 13,
   "metadata": {},
   "outputs": [],
   "source": [
    "img_plot=io.imread('images/bearing.jpg')*0.4\n",
    "H,W=img_plot.shape[:2]\n",
    "img_plot=np.pad(img_plot,pad_width=[[4*R_max,4*R_max],[4*R_max,4*R_max],[0,0]])\n",
    "for r,h,w,_ in locs:\n",
    "    rr, cc =circle_perimeter(h,w,r)\n",
    "    img_plot[rr+4*R_max,cc+4*R_max]=[0,255,0]\n",
    "img_plot=img_plot.astype(np.uint8)\n",
    "# show_images('', img=img_plot)"
   ]
  },
  {
   "cell_type": "code",
   "execution_count": 14,
   "metadata": {},
   "outputs": [],
   "source": [
    "im = Image.fromarray(img_plot) # save padded image\n",
    "im.save(\"images/bearing_padded_output.jpg\")\n",
    "im = Image.fromarray(img_plot[4*R_max:4*R_max+H,4*R_max:4*R_max+W]) # save cropped\n",
    "im.save(\"images/bearing_cropped_output.jpg\")"
   ]
  },
  {
   "cell_type": "code",
   "execution_count": null,
   "metadata": {},
   "outputs": [],
   "source": []
  }
 ],
 "metadata": {
  "kernelspec": {
   "display_name": "Python 3",
   "language": "python",
   "name": "python3"
  },
  "language_info": {
   "codemirror_mode": {
    "name": "ipython",
    "version": 3
   },
   "file_extension": ".py",
   "mimetype": "text/x-python",
   "name": "python",
   "nbconvert_exporter": "python",
   "pygments_lexer": "ipython3",
   "version": "3.8.5"
  }
 },
 "nbformat": 4,
 "nbformat_minor": 4
}
